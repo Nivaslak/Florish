{
 "cells": [
  {
   "cell_type": "code",
   "execution_count": 1,
   "id": "fadd9089",
   "metadata": {},
   "outputs": [],
   "source": [
    "import spacy\n"
   ]
  },
  {
   "cell_type": "code",
   "execution_count": 2,
   "id": "c2707a38",
   "metadata": {},
   "outputs": [],
   "source": [
    "nlp = spacy.load('en_core_web_sm')"
   ]
  },
  {
   "cell_type": "code",
   "execution_count": 3,
   "id": "ee96b8a6",
   "metadata": {},
   "outputs": [],
   "source": [
    "gardenpathSentences = \"\"\"The complex houses married and single soldiers and their families.The horse raced past the barn fell 1870.\n",
    "Mary gave the child a Band_Aid. That Jill is never here hurts. The cotton clothing is made of grows in Mississippi.\"\"\"\n"
   ]
  },
  {
   "cell_type": "code",
   "execution_count": 4,
   "id": "476b3412",
   "metadata": {},
   "outputs": [],
   "source": [
    "doc = nlp(gardenpathSentences)"
   ]
  },
  {
   "cell_type": "code",
   "execution_count": 5,
   "id": "a8330c40",
   "metadata": {},
   "outputs": [
    {
     "name": "stdout",
     "output_type": "stream",
     "text": [
      "[(1870, 'DATE'), (Mary, 'PERSON'), (Jill, 'PERSON'), (Mississippi, 'GPE')]\n"
     ]
    }
   ],
   "source": [
    "entities = [(token, token.label_) for token in doc.ents]\n",
    "print(entities)"
   ]
  },
  {
   "cell_type": "code",
   "execution_count": 6,
   "id": "196dbc51",
   "metadata": {},
   "outputs": [
    {
     "name": "stdout",
     "output_type": "stream",
     "text": [
      "Countries, cities, states\n"
     ]
    }
   ],
   "source": [
    "print(spacy.explain(\"GPE\"))"
   ]
  },
  {
   "cell_type": "code",
   "execution_count": null,
   "id": "a57af02c",
   "metadata": {},
   "outputs": [],
   "source": [
    "# The entity 'PERSON, DATE, GPE' are associated with the words 'Mary', 'Jill', '1870', 'Mississippi' respectively, and it makes sense."
   ]
  },
  {
   "cell_type": "code",
   "execution_count": null,
   "id": "5438afd1",
   "metadata": {},
   "outputs": [],
   "source": []
  }
 ],
 "metadata": {
  "kernelspec": {
   "display_name": "Python 3 (ipykernel)",
   "language": "python",
   "name": "python3"
  },
  "language_info": {
   "codemirror_mode": {
    "name": "ipython",
    "version": 3
   },
   "file_extension": ".py",
   "mimetype": "text/x-python",
   "name": "python",
   "nbconvert_exporter": "python",
   "pygments_lexer": "ipython3",
   "version": "3.11.1"
  }
 },
 "nbformat": 4,
 "nbformat_minor": 5
}
