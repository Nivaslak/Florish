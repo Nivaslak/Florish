{
 "cells": [
  {
   "cell_type": "code",
   "execution_count": 18,
   "id": "a36b8580",
   "metadata": {},
   "outputs": [],
   "source": [
    "import spacy\n",
    "nlp = spacy.load('en_core_web_md')\n",
    "word1 = nlp(\"cat\")\n",
    "word2 = nlp(\"monkey\")\n",
    "word3 = nlp(\"banana\")"
   ]
  },
  {
   "cell_type": "code",
   "execution_count": 19,
   "id": "38ae12c8",
   "metadata": {},
   "outputs": [
    {
     "name": "stdout",
     "output_type": "stream",
     "text": [
      "0.5929930274321619\n",
      "0.40415016164997786\n",
      "0.22358825939615987\n"
     ]
    }
   ],
   "source": [
    "print(word1.similarity(word2))\n",
    "print(word3.similarity(word2))\n",
    "print(word3.similarity(word1))"
   ]
  },
  {
   "cell_type": "markdown",
   "id": "ade09bfe",
   "metadata": {},
   "source": [
    "# trying to use 'en_core_web_sm' instead of 'en_core_web_md'"
   ]
  },
  {
   "cell_type": "code",
   "execution_count": 20,
   "id": "a8507f0a",
   "metadata": {},
   "outputs": [],
   "source": [
    "\n",
    "nlp = spacy.load('en_core_web_sm')\n",
    "word1 = nlp(\"cat\")\n",
    "word2 = nlp(\"monkey\")\n",
    "word3 = nlp(\"banana\")"
   ]
  },
  {
   "cell_type": "code",
   "execution_count": 21,
   "id": "f2ac1f79",
   "metadata": {},
   "outputs": [
    {
     "name": "stdout",
     "output_type": "stream",
     "text": [
      "0.6770564786760582\n",
      "0.7276309158552032\n",
      "0.6806928608631555\n"
     ]
    },
    {
     "name": "stderr",
     "output_type": "stream",
     "text": [
      "C:\\Users\\Srini\\AppData\\Local\\Temp\\ipykernel_5248\\3361357858.py:1: UserWarning: [W007] The model you're using has no word vectors loaded, so the result of the Doc.similarity method will be based on the tagger, parser and NER, which may not give useful similarity judgements. This may happen if you're using one of the small models, e.g. `en_core_web_sm`, which don't ship with word vectors and only use context-sensitive tensors. You can always add your own word vectors, or use one of the larger models instead if available.\n",
      "  print(word1.similarity(word2))\n",
      "C:\\Users\\Srini\\AppData\\Local\\Temp\\ipykernel_5248\\3361357858.py:2: UserWarning: [W007] The model you're using has no word vectors loaded, so the result of the Doc.similarity method will be based on the tagger, parser and NER, which may not give useful similarity judgements. This may happen if you're using one of the small models, e.g. `en_core_web_sm`, which don't ship with word vectors and only use context-sensitive tensors. You can always add your own word vectors, or use one of the larger models instead if available.\n",
      "  print(word3.similarity(word2))\n",
      "C:\\Users\\Srini\\AppData\\Local\\Temp\\ipykernel_5248\\3361357858.py:3: UserWarning: [W007] The model you're using has no word vectors loaded, so the result of the Doc.similarity method will be based on the tagger, parser and NER, which may not give useful similarity judgements. This may happen if you're using one of the small models, e.g. `en_core_web_sm`, which don't ship with word vectors and only use context-sensitive tensors. You can always add your own word vectors, or use one of the larger models instead if available.\n",
      "  print(word3.similarity(word1))\n"
     ]
    }
   ],
   "source": [
    "print(word1.similarity(word2))\n",
    "print(word3.similarity(word2))\n",
    "print(word3.similarity(word1))"
   ]
  },
  {
   "cell_type": "markdown",
   "id": "1fab9989",
   "metadata": {},
   "source": [
    "# Task-1\n",
    "#when i used 'en_core_web_sm' model, warning showed up as the 'sm' model didn't have vectors loaded because of which it can't give useful similarity judgement\n",
    "#better to use the 'en_core_web_md' model for similarity functions."
   ]
  },
  {
   "cell_type": "markdown",
   "id": "af668cca",
   "metadata": {},
   "source": [
    "# Task-1 Interesting fact about cat,monkey and banana \n",
    "#(word1.similarity(word2)) - cat and monkey- they are more similar as they are both aminals\n",
    "#(word3.similarity(word2)) - monkey and banana - model predicts that mankey is more associated with banana\n",
    "#(word3.similarity(word1)) - banana and cat - model does not predict more relasionship between banana and cat"
   ]
  },
  {
   "cell_type": "markdown",
   "id": "a8939823",
   "metadata": {},
   "source": [
    "# Task -1 Example - finding similarities between fruits and countries\n"
   ]
  },
  {
   "cell_type": "code",
   "execution_count": 17,
   "id": "e6b07a9e",
   "metadata": {},
   "outputs": [
    {
     "name": "stdout",
     "output_type": "stream",
     "text": [
      "Checking for similarity with -  {orange}\n",
      "orange orange 1.0\n",
      "orange apple 0.6135187745094299\n",
      "orange mango 0.5236381888389587\n",
      "orange spain 0.15661397576332092\n",
      "orange united 0.12210474163293839\n",
      "orange kingdom 0.09352299571037292\n",
      "orange India 0.09101726114749908\n",
      "Checking for similarity with -  {apple}\n",
      "apple orange 0.6135187745094299\n",
      "apple apple 1.0\n",
      "apple mango 0.6305076479911804\n",
      "apple spain 0.17869192361831665\n",
      "apple united 0.018290765583515167\n",
      "apple kingdom 0.11754384636878967\n",
      "apple India 0.050099391490221024\n",
      "Checking for similarity with -  {mango}\n",
      "mango orange 0.5236381888389587\n",
      "mango apple 0.6305076479911804\n",
      "mango mango 1.0\n",
      "mango spain 0.10620483756065369\n",
      "mango united -0.00834167841821909\n",
      "mango kingdom 0.14255951344966888\n",
      "mango India 0.23259760439395905\n",
      "Checking for similarity with -  {spain}\n",
      "spain orange 0.15661397576332092\n",
      "spain apple 0.17869192361831665\n",
      "spain mango 0.10620483756065369\n",
      "spain spain 1.0\n",
      "spain united 0.2808908224105835\n",
      "spain kingdom 0.16057385504245758\n",
      "spain India 0.2647448778152466\n",
      "Checking for similarity with -  {united}\n",
      "united orange 0.12210474163293839\n",
      "united apple 0.018290765583515167\n",
      "united mango -0.00834167841821909\n",
      "united spain 0.2808908224105835\n",
      "united united 1.0\n",
      "united kingdom 0.47180843353271484\n",
      "united India 0.3577808141708374\n",
      "Checking for similarity with -  {kingdom}\n",
      "kingdom orange 0.09352299571037292\n",
      "kingdom apple 0.11754384636878967\n",
      "kingdom mango 0.14255951344966888\n",
      "kingdom spain 0.16057385504245758\n",
      "kingdom united 0.47180843353271484\n",
      "kingdom kingdom 1.0\n",
      "kingdom India 0.3593575358390808\n",
      "Checking for similarity with -  {India}\n",
      "India orange 0.09101726114749908\n",
      "India apple 0.050099391490221024\n",
      "India mango 0.23259760439395905\n",
      "India spain 0.2647448778152466\n",
      "India united 0.3577808141708374\n",
      "India kingdom 0.3593575358390808\n",
      "India India 1.0\n"
     ]
    }
   ],
   "source": [
    "fruit = nlp('orange apple mango spain united kingdom India')\n",
    "for item1 in fruit:\n",
    "     print(f\"Checking for similarity with - \", {item1})\n",
    "     for other_item in fruit:\n",
    "        print(item1,other_item,item1.similarity(other_item))\n",
    "        "
   ]
  },
  {
   "cell_type": "code",
   "execution_count": null,
   "id": "61bc640d",
   "metadata": {},
   "outputs": [],
   "source": [
    "# fruits when compared with fruits are having good similarity score\n",
    "#fruits when compared with associated country has the next good similarity score"
   ]
  },
  {
   "cell_type": "code",
   "execution_count": 14,
   "id": "42161c93",
   "metadata": {},
   "outputs": [],
   "source": [
    "tokens = nlp('cat apple monkey banana')"
   ]
  },
  {
   "cell_type": "code",
   "execution_count": 11,
   "id": "9d77ce3e",
   "metadata": {},
   "outputs": [
    {
     "name": "stdout",
     "output_type": "stream",
     "text": [
      "cat cat 1.0\n",
      "cat apple 0.20368055999279022\n",
      "cat monkey 0.5929930210113525\n",
      "cat banana 0.2235882580280304\n",
      "apple cat 0.20368055999279022\n",
      "apple apple 1.0\n",
      "apple monkey 0.2342509925365448\n",
      "apple banana 0.6646699905395508\n",
      "monkey cat 0.5929930210113525\n",
      "monkey apple 0.2342509925365448\n",
      "monkey monkey 1.0\n",
      "monkey banana 0.4041501581668854\n",
      "banana cat 0.2235882580280304\n",
      "banana apple 0.6646699905395508\n",
      "banana monkey 0.4041501581668854\n",
      "banana banana 1.0\n"
     ]
    }
   ],
   "source": [
    "for token1 in tokens:\n",
    "    for token2 in tokens:\n",
    "        print(token1.text,token2.text,token1.similarity(token2))"
   ]
  },
  {
   "cell_type": "code",
   "execution_count": null,
   "id": "f6416857",
   "metadata": {},
   "outputs": [],
   "source": [
    "sentence_to_compare = \"why is my cat on the car\""
   ]
  },
  {
   "cell_type": "code",
   "execution_count": 7,
   "id": "85a0039f",
   "metadata": {},
   "outputs": [],
   "source": [
    "sentences =  [\"where did my dog go\",\"Hello, there is my car\",\"I\\'ve lost my car in my car\",\"I\\'d like my boat back\",\"I will name my dog Diana\"]\n"
   ]
  },
  {
   "cell_type": "code",
   "execution_count": 8,
   "id": "1382642b",
   "metadata": {},
   "outputs": [],
   "source": [
    "model_sentence = nlp(sentence_to_compare)"
   ]
  },
  {
   "cell_type": "code",
   "execution_count": 9,
   "id": "893ecb83",
   "metadata": {},
   "outputs": [
    {
     "name": "stdout",
     "output_type": "stream",
     "text": [
      "where did my dog go- 0.6262071548818354\n",
      "Hello, there is my car- 0.8202036001038134\n",
      "I've lost my car in my car- 0.6786021285923409\n",
      "I'd like my boat back- 0.555289564003117\n",
      "I will name my dog Diana- 0.6545909348110263\n"
     ]
    }
   ],
   "source": [
    "for sentence in sentences:\n",
    "    similarity = nlp(sentence).similarity(model_sentence)\n",
    "    print(sentence + \"-\" ,similarity)"
   ]
  },
  {
   "cell_type": "code",
   "execution_count": null,
   "id": "25f4b609",
   "metadata": {},
   "outputs": [],
   "source": []
  }
 ],
 "metadata": {
  "kernelspec": {
   "display_name": "Python 3 (ipykernel)",
   "language": "python",
   "name": "python3"
  },
  "language_info": {
   "codemirror_mode": {
    "name": "ipython",
    "version": 3
   },
   "file_extension": ".py",
   "mimetype": "text/x-python",
   "name": "python",
   "nbconvert_exporter": "python",
   "pygments_lexer": "ipython3",
   "version": "3.11.1"
  }
 },
 "nbformat": 4,
 "nbformat_minor": 5
}
