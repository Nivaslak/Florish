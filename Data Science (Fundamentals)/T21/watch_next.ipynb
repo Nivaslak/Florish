{
 "cells": [
  {
   "cell_type": "code",
   "execution_count": 20,
   "id": "24754b83",
   "metadata": {},
   "outputs": [],
   "source": [
    "import spacy"
   ]
  },
  {
   "cell_type": "code",
   "execution_count": 24,
   "id": "b40c3354",
   "metadata": {},
   "outputs": [],
   "source": [
    "nlp = spacy.load('en_core_web_md')"
   ]
  },
  {
   "cell_type": "code",
   "execution_count": 36,
   "id": "91d3abc8",
   "metadata": {},
   "outputs": [],
   "source": [
    "text = [\"Movie A :When Hiccup discovers Toothless isn\\'t the only Night Fury, he must seek \\\"The Hidden World\\\", a secret Dragon Utopia before a hired tyrant named Grimmel finds it first.\",\n",
    "\"Movie B :After the death of Superman, several new people present themselves as possible successors.\",\n",
    "\"Movie C :A darkness swirls at the center of a world-renowned dance company, one that will engulf the artistic director, an ambitious young dancer, and a grieving psychotherapist. Some will succumb to the nightmare. Others will finally wake up.\",\n",
    "\"Movie D :A humorous take on Sir Arthur Conan Doyle\\'s classic mysteries featuring Sherlock Holmes and Doctor Watson.\",\n",
    "\"Movie E :A 16-year-old girl and her extended family are left reeling after her calculating grandmother unveils an array of secrets on her deathbed.\",\n",
    "\"Movie F :In the last moments of World War II, a young German soldier fighting for survival finds a Nazi captain\\'s uniform. Impersonating an officer, the man quickly takes on the monstrous identity of the perpetrators he is trying to escape from.\",\n",
    "\"Movie G :The world at an end, a dying mother sends her young son on a quest to find the place that grants wishes.\",\n",
    "\"Movie H :A musician helps a young singer and actress find fame, even as age and alcoholism send his own career into a downward spiral.\",\n",
    "\"Movie I :Corporate analyst and single mom, Jen, tackles Christmas with a business-like approach until her uncle arrives with a handsome stranger in tow.\",\n",
    "\"Movie J :Adapted from the bestselling novel by Madeleine St John, Ladies in Black is an alluring and tender-hearted comedy drama about the lives of a group of department store employees in 1959 Sydney.\"]"
   ]
  },
  {
   "cell_type": "code",
   "execution_count": 37,
   "id": "40e2379a",
   "metadata": {},
   "outputs": [],
   "source": [
    "def most_similar_movie(description):\n",
    "    processed_description = nlp(description)\n",
    "    similarity_scores = [processed_description.similarity(nlp(sentence)) for sentence in text]\n",
    "    most_similar_index = similarity_scores.index(max(similarity_scores))\n",
    "    return text[most_similar_index]"
   ]
  },
  {
   "cell_type": "code",
   "execution_count": 38,
   "id": "20c1ff79",
   "metadata": {},
   "outputs": [
    {
     "name": "stdout",
     "output_type": "stream",
     "text": [
      "Movie C :A darkness swirls at the center of a world-renowned dance company, one that will engulf the artistic director, an ambitious young dancer, and a grieving psychotherapist. Some will succumb to the nightmare. Others will finally wake up.\n"
     ]
    }
   ],
   "source": [
    "description = \"Will he save their world or destroy it? When the Hulk becomes too dangerous for the Earth, the Illuminati trick Hulk into a shuttle and launch him into space to a planet where the Hulk can live in peace. Unfortunately, Hulk lands on the planet Sakaar where he is sold into slavery and trained as a gladiator.\"\n",
    "watch_next = most_similar_movie(description)\n",
    "print(watch_next)"
   ]
  },
  {
   "cell_type": "code",
   "execution_count": null,
   "id": "09bab691",
   "metadata": {},
   "outputs": [],
   "source": []
  }
 ],
 "metadata": {
  "kernelspec": {
   "display_name": "Python 3 (ipykernel)",
   "language": "python",
   "name": "python3"
  },
  "language_info": {
   "codemirror_mode": {
    "name": "ipython",
    "version": 3
   },
   "file_extension": ".py",
   "mimetype": "text/x-python",
   "name": "python",
   "nbconvert_exporter": "python",
   "pygments_lexer": "ipython3",
   "version": "3.11.1"
  }
 },
 "nbformat": 4,
 "nbformat_minor": 5
}
